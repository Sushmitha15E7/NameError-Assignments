{
 "cells": [
  {
   "cell_type": "markdown",
   "metadata": {},
   "source": [
    "# Part A-1\n",
    "## Write a program that prints the next 20 leap year and sum of digits of leap year must be greater than 16\n"
   ]
  },
  {
   "cell_type": "code",
   "execution_count": 2,
   "metadata": {},
   "outputs": [
    {
     "name": "stdout",
     "output_type": "stream",
     "text": [
      "2088\n",
      "2096\n",
      "2168\n",
      "2188\n",
      "2196\n",
      "2268\n",
      "2276\n",
      "2288\n",
      "2296\n",
      "2348\n",
      "2368\n",
      "2376\n",
      "2384\n",
      "2388\n",
      "2396\n",
      "2448\n",
      "2456\n",
      "2468\n",
      "2476\n",
      "2484\n"
     ]
    }
   ],
   "source": [
    "def leapyear(): \n",
    "    \"\"\"This function will find the leap year with sum of digits>16\"\"\"\n",
    "    c=1        #initialise the counter var c with 0\n",
    "    year=leap=2020  #initialise two var to 2020 as it is presetn year\n",
    "    while c<=20:    #while loop to keep count of number of leapyears with sumofdigits>16\n",
    "        year=leap   #store the cur year in var leap\n",
    "        sum=0    #initialise var sum with 0 \n",
    "        if year%100!=0 and year%4==0 or year%400==0: #if condition to check given year is leap year or not \n",
    "            while year>0:    #while loop to count the sum of digits \n",
    "                sum=sum+(year%10)     #add last digit th var sum\n",
    "                year=year//10     #change the var year as quotieant obtained by dividing by 10\n",
    "        if sum>16:     #if condition to check the sum >16\n",
    "             print(leap)    #print year \n",
    "             c=c+1  #increment c if sum>16\n",
    "        leap=leap+1  #increment leap var to change year value \n",
    "leapyear()   #function call"
   ]
  },
  {
   "cell_type": "markdown",
   "metadata": {},
   "source": [
    "# Part A-2\n",
    "# Design a user interactive Calculator .( sum , subtraction , multiplication , division , Distance , speed , Intrest)\n"
   ]
  },
  {
   "cell_type": "code",
   "execution_count": 2,
   "metadata": {},
   "outputs": [
    {
     "name": "stdout",
     "output_type": "stream",
     "text": [
      "1:Add\n",
      "2:Subtract\n",
      "3:Multiply\n",
      "4:Division\n",
      "5:Distance\n",
      "6:Speed\n",
      "7:Interest\n",
      "What u need to calculate\n",
      "6\n",
      "enter distance in km:343\n",
      "enter time in hrs:23\n",
      "speed:14.91304347826087 km/hr\n"
     ]
    }
   ],
   "source": [
    "def add(n1,n2):\n",
    "    \"\"\"Function to return sum of 2 numbers\"\"\"\n",
    "    return n1+n2\n",
    "def subtract(n1,n2):\n",
    "    \"\"\"function to return difference of 2 numbers\"\"\"\n",
    "    return n1-n2\n",
    "def multiply(n1,n2):\n",
    "    \"\"\"function to return product of 2numbers\"\"\"\n",
    "    return n1*n2\n",
    "def division(n1,n2):\n",
    "    \"\"\"functin to return division of 2 numbers\"\"\"\n",
    "    return n1/n2\n",
    "def distance(speed,time):\n",
    "    \"\"\"function to return distance\"\"\"\n",
    "    return speed*time\n",
    "def speed(distance,time):\n",
    "    \"\"\"function to return speed\"\"\"\n",
    "    return distance/time\n",
    "def interest(amount,rate,years):\n",
    "    \"\"\"function to return interest\"\"\"\n",
    "    return amount*rate*years/100\n",
    "    \n",
    "def calculate(n):\n",
    "    \"\"\"function to perform the selected operation\"\"\"\n",
    "    if n==1: #if condition to check n is 1 nd reads input from user and prints the sum\n",
    "        n1=float(input(\"enter 1st num:\"))\n",
    "        n2=float(input(\"enter 2nd num:\"))\n",
    "        print(\"sum:\",add(n1,n2))\n",
    "    elif n==2:  #checks if n is 2 and prints the difference for user input\n",
    "        n1=float(input(\"enter 1st num:\"))\n",
    "        n2=float(input(\"enter 2nd num:\"))\n",
    "        print(\"Difference:\",subtract(n1,n2))\n",
    "    elif n==3:  #checks if n is 3 and prnts the product of user input\n",
    "        n1=float(input(\"enter 1st num:\"))\n",
    "        n2=float(input(\"enter 2nd num:\"))\n",
    "        print(\"Product:\",multiply(n1,n2))\n",
    "    elif n==4:  #checks if n is 4 and prints the division for user input\n",
    "        n1=float(input(\"enter 1st num:\"))\n",
    "        n2=float(input(\"enter 2nd num:\"))\n",
    "        print(\"quotient:\",division(n1,n2))\n",
    "    elif n==5:  # checks if n is 5 and prints the distance for user input\n",
    "        sp=float(input(\"enter speed in km/hr:\"))\n",
    "        time=float(input(\"enter time in hrs:\"))\n",
    "        print(\"Distance:{}km\".format(distance(sp,time)))\n",
    "    elif n==6:   #checks if n is 6 and prints the speed for user input\n",
    "        dist=float(input(\"enter distance in km:\"))\n",
    "        time=float(input(\"enter time in hrs:\"))\n",
    "        print(\"speed:{} km/hr\".format(speed(dist,time)))\n",
    "    elif n==7:   #checks if n is 7 and print interest for user input\n",
    "        amount=float(input(\"enter amount in Rs:\"))\n",
    "        rate=float(input(\"enter interest rate:\"))\n",
    "        time=float(input(\"enter time in years:\"))\n",
    "        print(\"Interest: Rs.\",interest(amount,rate,time))\n",
    "            \n",
    "print(\"1:Add\\n2:Subtract\\n3:Multiply\\n4:Division\\n5:Distance\\n6:Speed\\n7:Interest\")\n",
    "print(\"What u need to calculate\")\n",
    "n=int(input())   #reads the input from user\n",
    "calculate(n)    #function call"
   ]
  },
  {
   "cell_type": "markdown",
   "metadata": {},
   "source": [
    "# Part A-3\n",
    "## The game is that the computer \"thinks\" about a number and we have to guess it. On every guess, the computer will tell us if our guess was smaller or bigger than the hidden number. The game ends when we find the number.Also Define no of attemps took to find this hidden number.(Hidden number lies between 0 - 100)\n"
   ]
  },
  {
   "cell_type": "code",
   "execution_count": 3,
   "metadata": {},
   "outputs": [
    {
     "name": "stdout",
     "output_type": "stream",
     "text": [
      "guess the number btw 0-100\n",
      "32\n",
      "ur number is large\n",
      "guess the number btw 0-100\n",
      "23\n",
      "ur number is small\n",
      "guess the number btw 0-100\n",
      "30\n",
      "ur number is large\n",
      "guess the number btw 0-100\n",
      "28\n",
      "ur number is large\n",
      "guess the number btw 0-100\n",
      "26\n",
      "ur number is large\n",
      "guess the number btw 0-100\n",
      "24\n",
      "Congrats!The number is 24\n",
      "No of attempts: 6\n"
     ]
    }
   ],
   "source": [
    "def numbergame():\n",
    "    \"\"\"This function is to generate random number and check with user input\"\"\"\n",
    "    import random    #import random module\n",
    "    number=random.randint(0,100)  #generating a random number and storing in var number\n",
    "    attempts=0  #initialise var attempts which counts no of attempts\n",
    "    usernumber=101   \n",
    "    while usernumber!=number:  #while loop which does the operation till the number is crt\n",
    "        print(\"guess the number btw 0-100\")   \n",
    "        usernumber=int(input())  #read the input from the user\n",
    "        if (usernumber<number):  #if condition to check the usernumber<number \n",
    "            print(\"ur number is small\")  #print msg to the user\n",
    "        elif usernumber>number:  #if condition to check the usernumber>number\n",
    "            print(\"ur number is large\")   #print msg to user\n",
    "        attempts=attempts+1  #increment the no of attempts made by user\n",
    "    else:   #this is executed when number==usernumber\n",
    "        print(\"Congrats!The number is\",number)  #print msg to user that the number is crt \n",
    "        print(\"No of attempts:\",attempts)   #prints the number of attempts \n",
    "numbergame()   #function call"
   ]
  },
  {
   "cell_type": "markdown",
   "metadata": {},
   "source": [
    "# Part A-4\n",
    "## Write a Python program to calculate sum and product of digits of a number.(Create Two different funtions one for sum and one product.)\n"
   ]
  },
  {
   "cell_type": "code",
   "execution_count": 4,
   "metadata": {},
   "outputs": [
    {
     "name": "stdout",
     "output_type": "stream",
     "text": [
      "enter the number23424\n",
      "15\n",
      "192\n"
     ]
    }
   ],
   "source": [
    "def summ(ls):  \n",
    "    \"\"\"This function finds the sum of digits of given num\"\"\"\n",
    "    s=0  #initialise var s to 0\n",
    "    for i in ls:   #for loop to add each element in list\n",
    "        s=s+i\n",
    "    return s   #return sum\n",
    "def product(ls):\n",
    "    \"\"\"This function finds product of digits of given num\"\"\"\n",
    "    p=1  #intitialise var p to 1\n",
    "    for i in ls:   #for loop to multiply each element in list\n",
    "        p=p*i\n",
    "    return p   #return product\n",
    "n=int(input(\"enter the number\"))  #reads the input from user\n",
    "ls=[]  #initialse empty list\n",
    "while n!=0:  #while loop till n!=0\n",
    "    ls.append(n%10)   #append the last digit of n to list \n",
    "    n=n//10  #change the number to quotient of the number obtained \n",
    "print(summ(ls))  #call the function and prints the value\n",
    "print(product(ls))  #call the function and prints the value"
   ]
  },
  {
   "cell_type": "markdown",
   "metadata": {},
   "source": [
    "# Part A-5\n",
    "## Write a Python program to calculate area and perimeter of square,rectangle,Rhombus,parallelogram.(Create Two different funtions one for Area and one for Perimeter.)\n"
   ]
  },
  {
   "cell_type": "code",
   "execution_count": 1,
   "metadata": {},
   "outputs": [
    {
     "name": "stdout",
     "output_type": "stream",
     "text": [
      "1:square\n",
      "2:rectangle\n",
      "3:rhombus\n",
      "4:parallelogram\n",
      "select a polygon:2\n",
      "enter length:23\n",
      "enter breadth:42\n",
      "area: 966.0\n",
      "perimeter 130.0\n"
     ]
    }
   ],
   "source": [
    "def areaofsquare(l):\n",
    "    \"\"\"This function returns area of sqaure\"\"\"\n",
    "    return l*l\n",
    "def perimeterofsquare(l):\n",
    "    \"\"\"This function returns perimeter of square\"\"\"\n",
    "    return 4*l\n",
    "def areaofrec(l,b):\n",
    "    \"\"\"This function returns area of rectangle\"\"\"\n",
    "    return l*b\n",
    "def perimeterofrec(l,b):\n",
    "    \"\"\"This function returns perimeter of rectangle\"\"\"\n",
    "    return 2*(l+b)\n",
    "def areaofrhombus(d1,d2):\n",
    "    \"\"\"This function returns area of rhombus\"\"\"\n",
    "    return d1*d2/2\n",
    "def perimeterofrhombus(a):\n",
    "    \"\"\"This function returns perimeter of rhombus\"\"\"\n",
    "    return 4*a\n",
    "def areaofpar(b,h):\n",
    "    \"\"\"This function returns area of rhombus\"\"\"\n",
    "    return b*h\n",
    "def perimeterofpar(l,b):\n",
    "    \"\"\"This fucntion returns perimeter of rhombus\"\"\"\n",
    "    return 2*(l+b)\n",
    "\n",
    "print(\"1:square\\n2:rectangle\\n3:rhombus\\n4:parallelogram\")  \n",
    "polygon=int(input(\"select a polygon:\"))     #user input to select a polygon\n",
    "if polygon==1:            #if condition to check whether the input is 1\n",
    "    sl=float(input(\"Enter the length of side:\"))   #reads side of square \n",
    "    print(\"area:\",areaofsquare(sl))        #prints area of square\n",
    "    print(\"perimeter:\",perimeterofsquare(sl))        #prints perimeter of square\n",
    "elif polygon==2:            #if condition to check whether the input is 1\n",
    "    rl=float(input(\"enter length:\"))       #reads length\n",
    "    rb=float(input(\"enter breadth:\"))       #read breadth\n",
    "    print(\"area:\",areaofrec(rl,rb))        #prints area of rectangle\n",
    "    print(\"perimeter\",perimeterofrec(rl,rb))      #prints perimeter of rectangle\n",
    "elif polygon==3:        #if condition to check whether the input is 1\n",
    "    d1=float(input(\"enter len of diagonal 1:\"))    #read len of diagonal 1     \n",
    "    d2=float(input(\"enter len of diagonal 2:\"))     #read len of diagonal 2\n",
    "    a=float(input(\"enter len of side:\"))   #read side of rhombus\n",
    "    print(\"area:\",areaofrhombus(d1,d2))    #prints area of rhombus\n",
    "    print(\"perimeter\",perimeterofrhombus(a))    #prints perimeter of rhombus\n",
    "elif polygon==4:\n",
    "    b=float(input(\"enter base of parallellogram\"))  #read len of base \n",
    "    h=float(input(\"enter height of parallellogram\"))  #read heigth \n",
    "    l=float(input(\"enter length  of parallelogram\"))   #read breadth\n",
    "    print(\"Area:\",areaofpar(b,h))            #prints area of parallelogram\n",
    "    print(\"Perimeter:\",perimeterofpar(l,b))    #prints perimeter of parallelogram\n",
    "else:\n",
    "    print(\"wrong input try again\")"
   ]
  },
  {
   "cell_type": "markdown",
   "metadata": {},
   "source": [
    "# Part A-6\n",
    "##  Write a function that takes a list of strings an prints them, one per line, in a rectangular frame. For example the list [\"Hello\", \"World\", \"in\", \"a\", \"frame\"] gets printed as:"
   ]
  },
  {
   "cell_type": "code",
   "execution_count": 6,
   "metadata": {},
   "outputs": [
    {
     "name": "stdout",
     "output_type": "stream",
     "text": [
      "Hello World in a frame\n",
      "********\n",
      "*Hello *\n",
      "*World *\n",
      "*in    *\n",
      "*a     *\n",
      "*frame *\n",
      "********\n"
     ]
    }
   ],
   "source": [
    "def pattern(ls):\n",
    "    \"\"\"This function prints the pattern\"\"\"\n",
    "    ls1=[]  #initialise the empty list to store len of each element in ls\n",
    "    for i in ls:   #appends the len of every element\n",
    "        ls1.append(len(i)) \n",
    "    m=max(ls1)  #var m stores the maximum of length of ls\n",
    "    print((m+3)*\"*\")  #print \"*\"\n",
    "    for i in ls:  \n",
    "        l=len(i)  #l stores length of element of ls\n",
    "        print(\"*\"+i+(m+1-l)*\" \"+\"*\")  #print \"*\" and element  and \" \" and \" *\"\n",
    "    print((m+3)*\"*\") #prints \"*\"\n",
    "    \n",
    "ls=list(input().split())  #reads the input from user and stores as list\n",
    "pattern(ls)  #calling function"
   ]
  },
  {
   "cell_type": "markdown",
   "metadata": {},
   "source": [
    "# Part B-1\n",
    "# Develop a Python Program which prints  cube sum of first n natural numbers (N is user defined)"
   ]
  },
  {
   "cell_type": "code",
   "execution_count": 7,
   "metadata": {},
   "outputs": [
    {
     "name": "stdout",
     "output_type": "stream",
     "text": [
      "enter a number:5\n",
      "225\n"
     ]
    }
   ],
   "source": [
    "def cubesum(n):\n",
    "    \"\"\"This function returns the cube sum of n numbers\"\"\"\n",
    "    sum=0  #initialise sum variable to 0\n",
    "    for i in range(1,n+1):  #for loop to traverse through all numbers from 1 to n\n",
    "        sum=sum+(i*i*i)   #calculates cube value and adds to sum var\n",
    "    return sum  \n",
    "n=int(input(\"enter a number:\"))  #reads n value from user\n",
    "print(cubesum(n))   #function call"
   ]
  },
  {
   "cell_type": "markdown",
   "metadata": {},
   "source": [
    "# Part B -2\n",
    "# Develop a Python program to print all Prime numbers in a given Interval (Interval values should be user defined)"
   ]
  },
  {
   "cell_type": "code",
   "execution_count": 8,
   "metadata": {},
   "outputs": [
    {
     "name": "stdout",
     "output_type": "stream",
     "text": [
      "Enter lower limit:2\n",
      "Enter upper limit:100\n",
      "[2, 3, 4, 5, 7, 11, 13, 17, 19, 23, 29, 31, 37, 41, 43, 47, 53, 59, 61, 67, 71, 73, 79, 83, 89, 97]\n"
     ]
    }
   ],
   "source": [
    "def prime(l,u):\n",
    "    \"\"\"This function is used to print prime numbers between lower limit and upper limit\"\"\"\n",
    "    ls=[]  #initialise empty list to store prime numbers \n",
    "    for i in range(l,u+1):  #for loop to traverse all numbers\n",
    "        c=0  #initialise counter value c to 0\n",
    "        for j in range(2,i//2):   #for loop to divide i value which ranges from 2 to i/2\n",
    "            if i%j==0:   # if rem is 0 increment counter c value\n",
    "                c=c+1 \n",
    "        if c==0:  # if cis zero append that i value to list'ls' \n",
    "            ls.append(i)\n",
    "    return ls\n",
    "lowerlimit=int(input(\"Enter lower limit:\"))  #reads the lower limit from user\n",
    "upperlimit=int(input(\"Enter upper limit:\"))  #reads the upper limit from user\n",
    "print(prime(lowerlimit,upperlimit))  #function call"
   ]
  },
  {
   "cell_type": "markdown",
   "metadata": {},
   "source": [
    "# Part B-3\n",
    "# Develop a Python Program which prints factorial of a given number (Number should be User defined)"
   ]
  },
  {
   "cell_type": "code",
   "execution_count": 9,
   "metadata": {},
   "outputs": [
    {
     "name": "stdout",
     "output_type": "stream",
     "text": [
      "Enter n value:8\n",
      "40320\n"
     ]
    }
   ],
   "source": [
    "def fact(n):\n",
    "    \"\"\"This function is used to return factorial of n using recursion\"\"\"\n",
    "    if n==1:  #if n is 1 then return 1(base condition)\n",
    "        return 1  \n",
    "    else:  \n",
    "        return n*fact(n-1)\n",
    "n=int(input(\"Enter n value:\"))  #reads the input from user\n",
    "print(fact(n))  #function call"
   ]
  },
  {
   "cell_type": "markdown",
   "metadata": {},
   "source": [
    "# Part B-4\n",
    "# Develop a Python Program to check if a given string is palindrome or not ? (Example for an Palindrome is abcba looks same from both ends)"
   ]
  },
  {
   "cell_type": "code",
   "execution_count": 10,
   "metadata": {},
   "outputs": [
    {
     "name": "stdout",
     "output_type": "stream",
     "text": [
      "Enter the string:abcba\n",
      "Given string is palindrome\n"
     ]
    }
   ],
   "source": [
    "def palin(s):\n",
    "    \"\"\"This function is used to find the given string is palindrome or not\"\"\"\n",
    "    rev=\"\" # initialise \n",
    "    for i in range(len(s)-1,-1,-1):\n",
    "        rev=rev+s[i]\n",
    "    if rev==s:\n",
    "        return True\n",
    "    else:\n",
    "        return False\n",
    "string=input(\"Enter the string:\")\n",
    "if palin(string):\n",
    "    print(\"Given string is palindrome\")\n",
    "else:\n",
    "    print(\"Given string is not palindrome\")"
   ]
  },
  {
   "cell_type": "markdown",
   "metadata": {},
   "source": [
    "# Part B- 5\n",
    "# Develop a python program which print sum of all the Integers in a list ( Note  : All the elements must be user defined and list must contain strings also ) "
   ]
  },
  {
   "cell_type": "code",
   "execution_count": 11,
   "metadata": {},
   "outputs": [
    {
     "name": "stdout",
     "output_type": "stream",
     "text": [
      "Enter the input:hello 843242 good 28347 morning 9\n",
      "871598\n"
     ]
    }
   ],
   "source": [
    "def sumofint(inputlist):\n",
    "    \"\"\"This function is used to find sum of integers in given list\"\"\"\n",
    "    sum=0  #initialse the var sum to zero\n",
    "    for i in inputlist:  # for every element in list find the number is b\n",
    "        if i.isdigit():  #if condition to check every digit of the element id digit \n",
    "            sum=sum+int(i)  #if true add the element is added to var sum\n",
    "    return sum      \n",
    "inputlist=list(input(\"Enter the input:\").split())  #store the given input as list \n",
    "print(sumofint(inputlist))  # function call"
   ]
  },
  {
   "cell_type": "markdown",
   "metadata": {},
   "source": [
    "# Part B-6\n",
    "# Develop a python program which print sum of all the Characters in a list ( Note  : All the elements must be user defined and list must contain Integers also )  "
   ]
  },
  {
   "cell_type": "code",
   "execution_count": 12,
   "metadata": {},
   "outputs": [
    {
     "name": "stdout",
     "output_type": "stream",
     "text": [
      "Enter the input:hello 8734 good 35 morning 353 !\n",
      "hellogoodmorning!\n"
     ]
    }
   ],
   "source": [
    "def sumofchar(inputlist):\n",
    "    \"\"\"This function is used to return the sum of characters in given list\"\"\"\n",
    "    result=\"\"  #var result to store the result\n",
    "    for i in inputlist:  #for loop to traverse all elements\n",
    "        if i.isdigit():  #if condition to check if the element has digits\n",
    "            continue   #continue if element has digit\n",
    "        else:  #else concatenate all the character elements\n",
    "            result=result+i \n",
    "    return result\n",
    "inputlist=list(input(\"Enter the input:\").split())   #store the given input as list\n",
    "print(sumofchar(inputlist))  # function call"
   ]
  }
 ],
 "metadata": {
  "kernelspec": {
   "display_name": "Python 3",
   "language": "python",
   "name": "python3"
  },
  "language_info": {
   "codemirror_mode": {
    "name": "ipython",
    "version": 3
   },
   "file_extension": ".py",
   "mimetype": "text/x-python",
   "name": "python",
   "nbconvert_exporter": "python",
   "pygments_lexer": "ipython3",
   "version": "3.7.4"
  }
 },
 "nbformat": 4,
 "nbformat_minor": 2
}
